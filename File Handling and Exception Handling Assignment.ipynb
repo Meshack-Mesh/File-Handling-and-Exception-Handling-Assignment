{
 "cells": [
  {
   "cell_type": "code",
   "execution_count": 4,
   "id": "f213a971-d8be-4f8e-a12a-85fa88c2aacb",
   "metadata": {},
   "outputs": [
    {
     "name": "stdin",
     "output_type": "stream",
     "text": [
      "Enter the name of the file to read:  KAMUM\n"
     ]
    },
    {
     "name": "stdout",
     "output_type": "stream",
     "text": [
      "Error: The file 'KAMUM' was not found.\n"
     ]
    }
   ],
   "source": [
    "def read_and_modify_file():\n",
    "    filename = input(\"Enter the name of the file to read: \")\n",
    "\n",
    "    try:\n",
    "        # Try opening and reading the file\n",
    "        with open(filename, 'r') as infile:\n",
    "            content = infile.read()\n",
    "\n",
    "        # Modify the content (e.g., convert to uppercase)\n",
    "        modified_content = content.upper()\n",
    "\n",
    "        # Define new filename\n",
    "        new_filename = \"modified_\" + filename\n",
    "\n",
    "        # Write the modified content to the new file\n",
    "        with open(new_filename, 'w') as outfile:\n",
    "            outfile.write(modified_content)\n",
    "\n",
    "        print(f\"Modified content has been written to '{new_filename}'.\")\n",
    "\n",
    "    except FileNotFoundError:\n",
    "        print(f\"Error: The file '{filename}' was not found.\")\n",
    "    except IOError:\n",
    "        print(f\"Error: Could not read the file '{filename}'.\")\n",
    "\n",
    "# Run the function\n",
    "read_and_modify_file()\n"
   ]
  },
  {
   "cell_type": "code",
   "execution_count": null,
   "id": "25aa2a4b-784f-4aaf-8f18-298b520d616d",
   "metadata": {},
   "outputs": [],
   "source": []
  }
 ],
 "metadata": {
  "kernelspec": {
   "display_name": "Python 3 (ipykernel)",
   "language": "python",
   "name": "python3"
  },
  "language_info": {
   "codemirror_mode": {
    "name": "ipython",
    "version": 3
   },
   "file_extension": ".py",
   "mimetype": "text/x-python",
   "name": "python",
   "nbconvert_exporter": "python",
   "pygments_lexer": "ipython3",
   "version": "3.12.4"
  }
 },
 "nbformat": 4,
 "nbformat_minor": 5
}
